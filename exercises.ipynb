{
 "cells": [
  {
   "cell_type": "code",
   "execution_count": 7,
   "id": "6ebe6f87-eaef-41e5-a0f1-dabbf7a6b19b",
   "metadata": {},
   "outputs": [
    {
     "name": "stdout",
     "output_type": "stream",
     "text": [
      "Integer variable: 42 Type: <class 'int'>\n",
      "Float variable: 3.14 Type: <class 'float'>\n",
      "String variable: Hello, World! Type: <class 'str'>\n",
      "Boolean variable: True Type: <class 'bool'>\n"
     ]
    }
   ],
   "source": [
    "integer_var = 42\n",
    "float_var = 3.14\n",
    "string_var = \"Hello, World!\"\n",
    "boolean_var = True\n",
    "print(\"Integer variable:\", integer_var, \"Type:\", type(integer_var))\n",
    "print(\"Float variable:\", float_var, \"Type:\", type(float_var))\n",
    "print(\"String variable:\", string_var, \"Type:\", type(string_var))\n",
    "print(\"Boolean variable:\", boolean_var, \"Type:\", type(boolean_var))\n"
   ]
  },
  {
   "cell_type": "markdown",
   "id": "4af58e17-62c6-4ed8-bcda-ade6e7a95917",
   "metadata": {},
   "source": [
    "Day-1"
   ]
  },
  {
   "cell_type": "code",
   "execution_count": 12,
   "id": "81a5549c-0bc7-4958-8c86-56a95b1ae22b",
   "metadata": {},
   "outputs": [
    {
     "name": "stdout",
     "output_type": "stream",
     "text": [
      "List example:\n",
      "First element: 10\n",
      "Third element: 30\n",
      "Last element: 50\n",
      "\n",
      "\n",
      "Tuple example:\n",
      "Second element: 2\n",
      "Fourth element: 4\n",
      "Last element: 5\n",
      "\n",
      "\n",
      "Dictionary example:\n",
      "Name: John\n",
      "Age: 30\n",
      "Job: Engineer\n"
     ]
    }
   ],
   "source": [
    "my_list = [10, 20, 30, 40, 50]\n",
    "print(\"List example:\")\n",
    "print(\"First element:\", my_list[0])      \n",
    "print(\"Third element:\", my_list[2])      \n",
    "print(\"Last element:\", my_list[-1])     \n",
    "print(\"\\n\")\n",
    "my_tuple = (1, 2, 3, 4, 5)\n",
    "print(\"Tuple example:\")\n",
    "print(\"Second element:\", my_tuple[1])    \n",
    "print(\"Fourth element:\", my_tuple[3])    \n",
    "print(\"Last element:\", my_tuple[-1])    \n",
    "\n",
    "print(\"\\n\")\n",
    "my_dict = {\n",
    "    'name': 'John',\n",
    "    'age': 30,\n",
    "    'city': 'New York',\n",
    "    'job': 'Engineer',\n",
    "    'salary': 75000\n",
    "}\n",
    "print(\"Dictionary example:\")\n",
    "print(\"Name:\", my_dict['name'])     \n",
    "print(\"Age:\", my_dict['age'])             \n",
    "print(\"Job:\", my_dict['job'])             \n"
   ]
  },
  {
   "cell_type": "markdown",
   "id": "00f14a43-6d5d-40ff-bd57-942bafaf8723",
   "metadata": {},
   "source": [
    "Day-2"
   ]
  },
  {
   "cell_type": "code",
   "execution_count": 17,
   "id": "7fd554ec-5121-46a6-bd50-a7f7c487bd27",
   "metadata": {},
   "outputs": [
    {
     "name": "stdin",
     "output_type": "stream",
     "text": [
      "Enter marks for subject 1:  80\n",
      "Enter marks for subject 2:  90\n",
      "Enter marks for subject 3:  80\n"
     ]
    },
    {
     "name": "stdout",
     "output_type": "stream",
     "text": [
      "Grade: B\n"
     ]
    }
   ],
   "source": [
    "subject1 = float(input(\"Enter marks for subject 1: \"))\n",
    "subject2 = float(input(\"Enter marks for subject 2: \"))\n",
    "subject3 = float(input(\"Enter marks for subject 3: \"))\n",
    "\n",
    "average = (subject1 + subject2 + subject3) / 3\n",
    "\n",
    "if average >= 90:\n",
    "    print(\"Grade: A\")\n",
    "elif 80 <= average < 90:\n",
    "    print(\"Grade: B\")\n",
    "elif 70 <= average < 80:\n",
    "    print(\"Grade: C\")\n",
    "else:\n",
    "    print(\"Grade: Fail\")\n"
   ]
  },
  {
   "cell_type": "markdown",
   "id": "9a2672de-1150-416e-aba5-2491a813239d",
   "metadata": {},
   "source": [
    "Day-3"
   ]
  },
  {
   "cell_type": "code",
   "execution_count": 20,
   "id": "105e0753-1399-470e-b5b1-e224ef0a54c1",
   "metadata": {},
   "outputs": [
    {
     "name": "stdin",
     "output_type": "stream",
     "text": [
      "Enter a positive integer:  20\n"
     ]
    },
    {
     "name": "stdout",
     "output_type": "stream",
     "text": [
      "The sum of all even numbers between 1 and 20 is: 110\n"
     ]
    }
   ],
   "source": [
    "n = int(input(\"Enter a positive integer: \"))\n",
    "even_sum = 0\n",
    "for i in range(1, n + 1):\n",
    "    if i % 2 == 0:  \n",
    "        even_sum += i  \n",
    "print(\"The sum of all even numbers between 1 and\", n, \"is:\", even_sum)\n"
   ]
  },
  {
   "cell_type": "markdown",
   "id": "c917bc4c-adee-409e-b730-754ad9eace8c",
   "metadata": {},
   "source": [
    "Day-4"
   ]
  },
  {
   "cell_type": "code",
   "execution_count": 23,
   "id": "0d86d9fa-03c7-438a-8db7-ff4e04fe6494",
   "metadata": {},
   "outputs": [
    {
     "name": "stdin",
     "output_type": "stream",
     "text": [
      "Enter a positive integer:  10\n"
     ]
    },
    {
     "name": "stdout",
     "output_type": "stream",
     "text": [
      "\n",
      "Numbers from 1 to 10 using a for loop:\n",
      "1\n",
      "2\n",
      "3\n",
      "4\n",
      "5\n",
      "6\n",
      "7\n",
      "8\n",
      "9\n",
      "10\n",
      "\n",
      "The sum of all numbers from 1 to 10 is: 55\n"
     ]
    }
   ],
   "source": [
    "n = int(input(\"Enter a positive integer: \"))\n",
    "print(\"\\nNumbers from 1 to\", n, \"using a for loop:\")\n",
    "for i in range(1, n + 1):\n",
    "    print(i)\n",
    "sum_of_numbers = 0\n",
    "i = 1\n",
    "while i <= n:\n",
    "    sum_of_numbers += i\n",
    "    i += 1\n",
    "\n",
    "print(\"\\nThe sum of all numbers from 1 to\", n, \"is:\", sum_of_numbers)\n",
    "\n"
   ]
  },
  {
   "cell_type": "code",
   "execution_count": 25,
   "id": "58db5a16-2bc5-4739-a204-0ec3d2c9f42f",
   "metadata": {},
   "outputs": [
    {
     "name": "stdin",
     "output_type": "stream",
     "text": [
      "Enter a positive integer:  15\n"
     ]
    },
    {
     "name": "stdout",
     "output_type": "stream",
     "text": [
      "The square of 15 is: 225\n"
     ]
    }
   ],
   "source": [
    "def calculate_square(n):\n",
    "    return n * n \n",
    "n = int(input(\"Enter a positive integer: \"))\n",
    "square = calculate_square(n)\n",
    "print(\"The square of\", n, \"is:\", square)\n"
   ]
  },
  {
   "cell_type": "markdown",
   "id": "51562b99-1325-4f62-b4fa-8dc95158b055",
   "metadata": {},
   "source": [
    "Day-5"
   ]
  },
  {
   "cell_type": "code",
   "execution_count": 28,
   "id": "098ff535-baa9-4167-8c5f-f065e066a9d7",
   "metadata": {},
   "outputs": [
    {
     "name": "stdout",
     "output_type": "stream",
     "text": [
      "    Name  Age Department  Salary\n",
      "0   John   28         HR   45000\n",
      "1  Alice   34         IT   60000\n",
      "2    Bob   23  Marketing   35000\n",
      "3  Diana   29    Finance   50000\n"
     ]
    }
   ],
   "source": [
    "import pandas as pd\n",
    "data = {\n",
    "    'Name': ['John', 'Alice', 'Bob', 'Diana'],\n",
    "    'Age': [28, 34, 23, 29],\n",
    "    'Department': ['HR', 'IT', 'Marketing', 'Finance'],\n",
    "    'Salary': [45000, 60000, 35000, 50000]\n",
    "}\n",
    "df = pd.DataFrame(data)\n",
    "print(df)\n"
   ]
  },
  {
   "cell_type": "code",
   "execution_count": 30,
   "id": "af8fd3ff-5f94-4f15-8e3e-bd31dd7ee131",
   "metadata": {},
   "outputs": [
    {
     "name": "stdout",
     "output_type": "stream",
     "text": [
      "First 2 rows of the DataFrame:\n",
      "    Name  Age Department  Salary\n",
      "0   John   28         HR   45000\n",
      "1  Alice   34         IT   60000\n",
      "\n",
      "\n",
      "DataFrame with the 'Bonus' column:\n",
      "    Name  Age Department  Salary   Bonus\n",
      "0   John   28         HR   45000  4500.0\n",
      "1  Alice   34         IT   60000  6000.0\n",
      "2    Bob   23  Marketing   35000  3500.0\n",
      "3  Diana   29    Finance   50000  5000.0\n",
      "\n",
      "\n",
      "The average salary of employees is: 47500.00\n",
      "\n",
      "\n",
      "Employees who are older than 25:\n",
      "    Name  Age Department  Salary   Bonus\n",
      "0   John   28         HR   45000  4500.0\n",
      "1  Alice   34         IT   60000  6000.0\n",
      "3  Diana   29    Finance   50000  5000.0\n"
     ]
    }
   ],
   "source": [
    "import pandas as pd\n",
    "data = {\n",
    "    'Name': ['John', 'Alice', 'Bob', 'Diana'],\n",
    "    'Age': [28, 34, 23, 29],\n",
    "    'Department': ['HR', 'IT', 'Marketing', 'Finance'],\n",
    "    'Salary': [45000, 60000, 35000, 50000]\n",
    "}\n",
    "df = pd.DataFrame(data)\n",
    "print(\"First 2 rows of the DataFrame:\")\n",
    "print(df.head(2))\n",
    "print(\"\\n\")\n",
    "df['Bonus'] = df['Salary'] * 0.10\n",
    "print(\"DataFrame with the 'Bonus' column:\")\n",
    "print(df)\n",
    "print(\"\\n\")\n",
    "average_salary = df['Salary'].mean()\n",
    "print(f\"The average salary of employees is: {average_salary:.2f}\")\n",
    "print(\"\\n\")\n",
    "employees_older_than_25 = df[df['Age'] > 25]\n",
    "print(\"Employees who are older than 25:\")\n",
    "print(employees_older_than_25)\n"
   ]
  },
  {
   "cell_type": "markdown",
   "id": "1eadaf6f-5d5d-430e-a712-fe24d556d271",
   "metadata": {},
   "source": [
    "Day-6"
   ]
  }
 ],
 "metadata": {
  "kernelspec": {
   "display_name": "Python [conda env:base] *",
   "language": "python",
   "name": "conda-base-py"
  },
  "language_info": {
   "codemirror_mode": {
    "name": "ipython",
    "version": 3
   },
   "file_extension": ".py",
   "mimetype": "text/x-python",
   "name": "python",
   "nbconvert_exporter": "python",
   "pygments_lexer": "ipython3",
   "version": "3.12.7"
  }
 },
 "nbformat": 4,
 "nbformat_minor": 5
}
